{
 "cells": [
  {
   "cell_type": "markdown",
   "metadata": {},
   "source": [
    "# Start by importing the necessary libraries"
   ]
  },
  {
   "cell_type": "code",
   "execution_count": 1,
   "metadata": {},
   "outputs": [],
   "source": [
    "import pandas as pd\n",
    "import numpy as np\n",
    "\n",
    "from sklearn.preprocessing import StandardScaler\n",
    "from sklearn.cluster import KMeans\n",
    "from sklearn.decomposition import PCA\n",
    "\n",
    "import matplotlib.pyplot as plt\n",
    "import seaborn as sns\n",
    "sns.set()"
   ]
  },
  {
   "cell_type": "markdown",
   "metadata": {},
   "source": [
    "# We load the dataset which was downloaded from kaggle\n",
    "# We can see there is only for five columns in which four of them are meaningful\n",
    "# CustomerID is the unique identifier of each customer in the dataset, so we used it as a index column"
   ]
  },
  {
   "cell_type": "code",
   "execution_count": 2,
   "metadata": {},
   "outputs": [
    {
     "data": {
      "text/html": [
       "<div>\n",
       "<style scoped>\n",
       "    .dataframe tbody tr th:only-of-type {\n",
       "        vertical-align: middle;\n",
       "    }\n",
       "\n",
       "    .dataframe tbody tr th {\n",
       "        vertical-align: top;\n",
       "    }\n",
       "\n",
       "    .dataframe thead th {\n",
       "        text-align: right;\n",
       "    }\n",
       "</style>\n",
       "<table border=\"1\" class=\"dataframe\">\n",
       "  <thead>\n",
       "    <tr style=\"text-align: right;\">\n",
       "      <th></th>\n",
       "      <th>Gender</th>\n",
       "      <th>Age</th>\n",
       "      <th>Annual Income (k$)</th>\n",
       "      <th>Spending Score (1-100)</th>\n",
       "    </tr>\n",
       "    <tr>\n",
       "      <th>CustomerID</th>\n",
       "      <th></th>\n",
       "      <th></th>\n",
       "      <th></th>\n",
       "      <th></th>\n",
       "    </tr>\n",
       "  </thead>\n",
       "  <tbody>\n",
       "    <tr>\n",
       "      <th>1</th>\n",
       "      <td>Male</td>\n",
       "      <td>19</td>\n",
       "      <td>15</td>\n",
       "      <td>39</td>\n",
       "    </tr>\n",
       "    <tr>\n",
       "      <th>2</th>\n",
       "      <td>Male</td>\n",
       "      <td>21</td>\n",
       "      <td>15</td>\n",
       "      <td>81</td>\n",
       "    </tr>\n",
       "    <tr>\n",
       "      <th>3</th>\n",
       "      <td>Female</td>\n",
       "      <td>20</td>\n",
       "      <td>16</td>\n",
       "      <td>6</td>\n",
       "    </tr>\n",
       "    <tr>\n",
       "      <th>4</th>\n",
       "      <td>Female</td>\n",
       "      <td>23</td>\n",
       "      <td>16</td>\n",
       "      <td>77</td>\n",
       "    </tr>\n",
       "    <tr>\n",
       "      <th>5</th>\n",
       "      <td>Female</td>\n",
       "      <td>31</td>\n",
       "      <td>17</td>\n",
       "      <td>40</td>\n",
       "    </tr>\n",
       "    <tr>\n",
       "      <th>...</th>\n",
       "      <td>...</td>\n",
       "      <td>...</td>\n",
       "      <td>...</td>\n",
       "      <td>...</td>\n",
       "    </tr>\n",
       "    <tr>\n",
       "      <th>196</th>\n",
       "      <td>Female</td>\n",
       "      <td>35</td>\n",
       "      <td>120</td>\n",
       "      <td>79</td>\n",
       "    </tr>\n",
       "    <tr>\n",
       "      <th>197</th>\n",
       "      <td>Female</td>\n",
       "      <td>45</td>\n",
       "      <td>126</td>\n",
       "      <td>28</td>\n",
       "    </tr>\n",
       "    <tr>\n",
       "      <th>198</th>\n",
       "      <td>Male</td>\n",
       "      <td>32</td>\n",
       "      <td>126</td>\n",
       "      <td>74</td>\n",
       "    </tr>\n",
       "    <tr>\n",
       "      <th>199</th>\n",
       "      <td>Male</td>\n",
       "      <td>32</td>\n",
       "      <td>137</td>\n",
       "      <td>18</td>\n",
       "    </tr>\n",
       "    <tr>\n",
       "      <th>200</th>\n",
       "      <td>Male</td>\n",
       "      <td>30</td>\n",
       "      <td>137</td>\n",
       "      <td>83</td>\n",
       "    </tr>\n",
       "  </tbody>\n",
       "</table>\n",
       "<p>200 rows × 4 columns</p>\n",
       "</div>"
      ],
      "text/plain": [
       "            Gender  Age  Annual Income (k$)  Spending Score (1-100)\n",
       "CustomerID                                                         \n",
       "1             Male   19                  15                      39\n",
       "2             Male   21                  15                      81\n",
       "3           Female   20                  16                       6\n",
       "4           Female   23                  16                      77\n",
       "5           Female   31                  17                      40\n",
       "...            ...  ...                 ...                     ...\n",
       "196         Female   35                 120                      79\n",
       "197         Female   45                 126                      28\n",
       "198           Male   32                 126                      74\n",
       "199           Male   32                 137                      18\n",
       "200           Male   30                 137                      83\n",
       "\n",
       "[200 rows x 4 columns]"
      ]
     },
     "execution_count": 2,
     "metadata": {},
     "output_type": "execute_result"
    }
   ],
   "source": [
    "df = pd.read_csv('Mall_Customers.csv',index_col='CustomerID')\n",
    "df"
   ]
  },
  {
   "cell_type": "markdown",
   "metadata": {},
   "source": [
    "# We'll have a quick look as our data"
   ]
  },
  {
   "cell_type": "code",
   "execution_count": 3,
   "metadata": {
    "scrolled": true
   },
   "outputs": [
    {
     "name": "stdout",
     "output_type": "stream",
     "text": [
      "<class 'pandas.core.frame.DataFrame'>\n",
      "Int64Index: 200 entries, 1 to 200\n",
      "Data columns (total 4 columns):\n",
      " #   Column                  Non-Null Count  Dtype \n",
      "---  ------                  --------------  ----- \n",
      " 0   Gender                  200 non-null    object\n",
      " 1   Age                     200 non-null    int64 \n",
      " 2   Annual Income (k$)      200 non-null    int64 \n",
      " 3   Spending Score (1-100)  200 non-null    int64 \n",
      "dtypes: int64(3), object(1)\n",
      "memory usage: 7.8+ KB\n"
     ]
    }
   ],
   "source": [
    "df.info()"
   ]
  },
  {
   "cell_type": "code",
   "execution_count": 4,
   "metadata": {},
   "outputs": [
    {
     "data": {
      "text/plain": [
       "Age                       38.85\n",
       "Annual Income (k$)        60.56\n",
       "Spending Score (1-100)    50.20\n",
       "dtype: float64"
      ]
     },
     "execution_count": 4,
     "metadata": {},
     "output_type": "execute_result"
    }
   ],
   "source": [
    "df.mean(axis= 0, skipna=True)"
   ]
  },
  {
   "cell_type": "markdown",
   "metadata": {},
   "source": [
    "# By using matplotlib and seaborn libraries, we can visualize our data to understand how it is distributed"
   ]
  },
  {
   "cell_type": "code",
   "execution_count": 5,
   "metadata": {},
   "outputs": [
    {
     "data": {
      "text/plain": [
       "Text(0.5, 1.0, 'Distribution of Age in respect for the Annual Income')"
      ]
     },
     "execution_count": 5,
     "metadata": {},
     "output_type": "execute_result"
    },
    {
     "data": {
      "image/png": "[encoded data removed]",
      "text/plain": [
       "<Figure size 1296x720 with 1 Axes>"
      ]
     },
     "metadata": {},
     "output_type": "display_data"
    }
   ],
   "source": [
    "plt.figure(figsize=(18,10))\n",
    "plt.scatter(df['Age'], df['Annual Income (k$)'])\n",
    "plt.xlabel('Customers Age')\n",
    "plt.ylabel('Annual Income in k$')\n",
    "plt.title('Distribution of Age in respect for the Annual Income', fontsize = 25)"
   ]
  },
  {
   "cell_type": "code",
   "execution_count": 6,
   "metadata": {},
   "outputs": [
    {
     "data": {
      "text/plain": [
       "Text(0.5, 1.0, 'Distribution of Age')"
      ]
     },
     "execution_count": 6,
     "metadata": {},
     "output_type": "execute_result"
    },
    {
     "data": {
      "image/png": "[encoded data removed]",
      "text/plain": [
       "<Figure size 1296x720 with 1 Axes>"
      ]
     },
     "metadata": {},
     "output_type": "display_data"
    }
   ],
   "source": [
    "plt.figure(figsize=(18,10))\n",
    "sns.histplot(df['Age'])\n",
    "plt.xlabel('Customers Age')\n",
    "plt.ylabel('Number of Customers')\n",
    "plt.title('Distribution of Age', fontsize = 30)"
   ]
  },
  {
   "cell_type": "code",
   "execution_count": 7,
   "metadata": {},
   "outputs": [
    {
     "data": {
      "text/plain": [
       "Text(0.5, 1.0, 'Distribution of Annual Income')"
      ]
     },
     "execution_count": 7,
     "metadata": {},
     "output_type": "execute_result"
    },
    {
     "data": {
      "image/png": "[encoded data removed]",
      "text/plain": [
       "<Figure size 1296x720 with 1 Axes>"
      ]
     },
     "metadata": {},
     "output_type": "display_data"
    }
   ],
   "source": [
    "plt.figure(figsize=(18,10))\n",
    "sns.histplot(df['Annual Income (k$)'])\n",
    "plt.title('Distribution of Annual Income', fontsize = 30)\n"
   ]
  },
  {
   "cell_type": "code",
   "execution_count": 8,
   "metadata": {},
   "outputs": [
    {
     "data": {
      "text/plain": [
       "Text(0.5, 1.0, 'Distribution of Spending Score')"
      ]
     },
     "execution_count": 8,
     "metadata": {},
     "output_type": "execute_result"
    },
    {
     "data": {
      "image/png": "[encoded data removed]",
      "text/plain": [
       "<Figure size 1296x720 with 1 Axes>"
      ]
     },
     "metadata": {},
     "output_type": "display_data"
    }
   ],
   "source": [
    "plt.figure(figsize=(18,10))\n",
    "sns.histplot(df['Spending Score (1-100)'])\n",
    "plt.title('Distribution of Spending Score', fontsize = 30)"
   ]
  },
  {
   "cell_type": "code",
   "execution_count": 9,
   "metadata": {},
   "outputs": [
    {
     "data": {
      "text/html": [
       "<div>\n",
       "<style scoped>\n",
       "    .dataframe tbody tr th:only-of-type {\n",
       "        vertical-align: middle;\n",
       "    }\n",
       "\n",
       "    .dataframe tbody tr th {\n",
       "        vertical-align: top;\n",
       "    }\n",
       "\n",
       "    .dataframe thead th {\n",
       "        text-align: right;\n",
       "    }\n",
       "</style>\n",
       "<table border=\"1\" class=\"dataframe\">\n",
       "  <thead>\n",
       "    <tr style=\"text-align: right;\">\n",
       "      <th></th>\n",
       "      <th>Gender</th>\n",
       "      <th>Age</th>\n",
       "      <th>Annual Income (k$)</th>\n",
       "      <th>Spending Score (1-100)</th>\n",
       "    </tr>\n",
       "    <tr>\n",
       "      <th>CustomerID</th>\n",
       "      <th></th>\n",
       "      <th></th>\n",
       "      <th></th>\n",
       "      <th></th>\n",
       "    </tr>\n",
       "  </thead>\n",
       "  <tbody>\n",
       "    <tr>\n",
       "      <th>1</th>\n",
       "      <td>Male</td>\n",
       "      <td>19</td>\n",
       "      <td>15</td>\n",
       "      <td>39</td>\n",
       "    </tr>\n",
       "    <tr>\n",
       "      <th>2</th>\n",
       "      <td>Male</td>\n",
       "      <td>21</td>\n",
       "      <td>15</td>\n",
       "      <td>81</td>\n",
       "    </tr>\n",
       "    <tr>\n",
       "      <th>3</th>\n",
       "      <td>Female</td>\n",
       "      <td>20</td>\n",
       "      <td>16</td>\n",
       "      <td>6</td>\n",
       "    </tr>\n",
       "    <tr>\n",
       "      <th>4</th>\n",
       "      <td>Female</td>\n",
       "      <td>23</td>\n",
       "      <td>16</td>\n",
       "      <td>77</td>\n",
       "    </tr>\n",
       "    <tr>\n",
       "      <th>5</th>\n",
       "      <td>Female</td>\n",
       "      <td>31</td>\n",
       "      <td>17</td>\n",
       "      <td>40</td>\n",
       "    </tr>\n",
       "    <tr>\n",
       "      <th>...</th>\n",
       "      <td>...</td>\n",
       "      <td>...</td>\n",
       "      <td>...</td>\n",
       "      <td>...</td>\n",
       "    </tr>\n",
       "    <tr>\n",
       "      <th>196</th>\n",
       "      <td>Female</td>\n",
       "      <td>35</td>\n",
       "      <td>120</td>\n",
       "      <td>79</td>\n",
       "    </tr>\n",
       "    <tr>\n",
       "      <th>197</th>\n",
       "      <td>Female</td>\n",
       "      <td>45</td>\n",
       "      <td>126</td>\n",
       "      <td>28</td>\n",
       "    </tr>\n",
       "    <tr>\n",
       "      <th>198</th>\n",
       "      <td>Male</td>\n",
       "      <td>32</td>\n",
       "      <td>126</td>\n",
       "      <td>74</td>\n",
       "    </tr>\n",
       "    <tr>\n",
       "      <th>199</th>\n",
       "      <td>Male</td>\n",
       "      <td>32</td>\n",
       "      <td>137</td>\n",
       "      <td>18</td>\n",
       "    </tr>\n",
       "    <tr>\n",
       "      <th>200</th>\n",
       "      <td>Male</td>\n",
       "      <td>30</td>\n",
       "      <td>137</td>\n",
       "      <td>83</td>\n",
       "    </tr>\n",
       "  </tbody>\n",
       "</table>\n",
       "<p>200 rows × 4 columns</p>\n",
       "</div>"
      ],
      "text/plain": [
       "            Gender  Age  Annual Income (k$)  Spending Score (1-100)\n",
       "CustomerID                                                         \n",
       "1             Male   19                  15                      39\n",
       "2             Male   21                  15                      81\n",
       "3           Female   20                  16                       6\n",
       "4           Female   23                  16                      77\n",
       "5           Female   31                  17                      40\n",
       "...            ...  ...                 ...                     ...\n",
       "196         Female   35                 120                      79\n",
       "197         Female   45                 126                      28\n",
       "198           Male   32                 126                      74\n",
       "199           Male   32                 137                      18\n",
       "200           Male   30                 137                      83\n",
       "\n",
       "[200 rows x 4 columns]"
      ]
     },
     "execution_count": 9,
     "metadata": {},
     "output_type": "execute_result"
    }
   ],
   "source": [
    "df_1 = df.copy()\n",
    "df_1"
   ]
  },
  {
   "cell_type": "markdown",
   "metadata": {},
   "source": [
    "# The variable 'gender' is categorical, and we need to transform this into a numeric variable.\n",
    "\n",
    "# This means that we need to substitute numbers for each category. We can do this with Pandas using pd.get_dummies()."
   ]
  },
  {
   "cell_type": "code",
   "execution_count": 10,
   "metadata": {},
   "outputs": [],
   "source": [
    "df_gender = pd.get_dummies(df_1['Gender'])\n",
    "df_new = pd.concat([df_1,df_gender], axis = 1)\n"
   ]
  },
  {
   "cell_type": "code",
   "execution_count": 11,
   "metadata": {},
   "outputs": [],
   "source": [
    "df_new = df_new.drop(['Gender', 'Female'], axis = 1)\n",
    "df_new.rename(columns = {'Male':'is_male'}, inplace = True)"
   ]
  },
  {
   "cell_type": "code",
   "execution_count": 12,
   "metadata": {},
   "outputs": [
    {
     "data": {
      "text/html": [
       "<div>\n",
       "<style scoped>\n",
       "    .dataframe tbody tr th:only-of-type {\n",
       "        vertical-align: middle;\n",
       "    }\n",
       "\n",
       "    .dataframe tbody tr th {\n",
       "        vertical-align: top;\n",
       "    }\n",
       "\n",
       "    .dataframe thead th {\n",
       "        text-align: right;\n",
       "    }\n",
       "</style>\n",
       "<table border=\"1\" class=\"dataframe\">\n",
       "  <thead>\n",
       "    <tr style=\"text-align: right;\">\n",
       "      <th></th>\n",
       "      <th>Age</th>\n",
       "      <th>Annual Income (k$)</th>\n",
       "      <th>Spending Score (1-100)</th>\n",
       "      <th>is_male</th>\n",
       "    </tr>\n",
       "    <tr>\n",
       "      <th>CustomerID</th>\n",
       "      <th></th>\n",
       "      <th></th>\n",
       "      <th></th>\n",
       "      <th></th>\n",
       "    </tr>\n",
       "  </thead>\n",
       "  <tbody>\n",
       "    <tr>\n",
       "      <th>1</th>\n",
       "      <td>19</td>\n",
       "      <td>15</td>\n",
       "      <td>39</td>\n",
       "      <td>1</td>\n",
       "    </tr>\n",
       "    <tr>\n",
       "      <th>2</th>\n",
       "      <td>21</td>\n",
       "      <td>15</td>\n",
       "      <td>81</td>\n",
       "      <td>1</td>\n",
       "    </tr>\n",
       "    <tr>\n",
       "      <th>3</th>\n",
       "      <td>20</td>\n",
       "      <td>16</td>\n",
       "      <td>6</td>\n",
       "      <td>0</td>\n",
       "    </tr>\n",
       "    <tr>\n",
       "      <th>4</th>\n",
       "      <td>23</td>\n",
       "      <td>16</td>\n",
       "      <td>77</td>\n",
       "      <td>0</td>\n",
       "    </tr>\n",
       "    <tr>\n",
       "      <th>5</th>\n",
       "      <td>31</td>\n",
       "      <td>17</td>\n",
       "      <td>40</td>\n",
       "      <td>0</td>\n",
       "    </tr>\n",
       "    <tr>\n",
       "      <th>...</th>\n",
       "      <td>...</td>\n",
       "      <td>...</td>\n",
       "      <td>...</td>\n",
       "      <td>...</td>\n",
       "    </tr>\n",
       "    <tr>\n",
       "      <th>196</th>\n",
       "      <td>35</td>\n",
       "      <td>120</td>\n",
       "      <td>79</td>\n",
       "      <td>0</td>\n",
       "    </tr>\n",
       "    <tr>\n",
       "      <th>197</th>\n",
       "      <td>45</td>\n",
       "      <td>126</td>\n",
       "      <td>28</td>\n",
       "      <td>0</td>\n",
       "    </tr>\n",
       "    <tr>\n",
       "      <th>198</th>\n",
       "      <td>32</td>\n",
       "      <td>126</td>\n",
       "      <td>74</td>\n",
       "      <td>1</td>\n",
       "    </tr>\n",
       "    <tr>\n",
       "      <th>199</th>\n",
       "      <td>32</td>\n",
       "      <td>137</td>\n",
       "      <td>18</td>\n",
       "      <td>1</td>\n",
       "    </tr>\n",
       "    <tr>\n",
       "      <th>200</th>\n",
       "      <td>30</td>\n",
       "      <td>137</td>\n",
       "      <td>83</td>\n",
       "      <td>1</td>\n",
       "    </tr>\n",
       "  </tbody>\n",
       "</table>\n",
       "<p>200 rows × 4 columns</p>\n",
       "</div>"
      ],
      "text/plain": [
       "            Age  Annual Income (k$)  Spending Score (1-100)  is_male\n",
       "CustomerID                                                          \n",
       "1            19                  15                      39        1\n",
       "2            21                  15                      81        1\n",
       "3            20                  16                       6        0\n",
       "4            23                  16                      77        0\n",
       "5            31                  17                      40        0\n",
       "...         ...                 ...                     ...      ...\n",
       "196          35                 120                      79        0\n",
       "197          45                 126                      28        0\n",
       "198          32                 126                      74        1\n",
       "199          32                 137                      18        1\n",
       "200          30                 137                      83        1\n",
       "\n",
       "[200 rows x 4 columns]"
      ]
     },
     "execution_count": 12,
     "metadata": {},
     "output_type": "execute_result"
    }
   ],
   "source": [
    "df_new"
   ]
  },
  {
   "cell_type": "markdown",
   "metadata": {},
   "source": [
    "# Then by importing the StandardScaler from Sklearn, First, lets standardize all variables in the dataset to get them around the same scale."
   ]
  },
  {
   "cell_type": "code",
   "execution_count": 13,
   "metadata": {},
   "outputs": [
    {
     "name": "stdout",
     "output_type": "stream",
     "text": [
      "[[-1.42456879 -1.73899919 -0.43480148  1.12815215]\n",
      " [-1.28103541 -1.73899919  1.19570407  1.12815215]\n",
      " [-1.3528021  -1.70082976 -1.71591298 -0.88640526]\n",
      " [-1.13750203 -1.70082976  1.04041783 -0.88640526]\n",
      " [-0.56336851 -1.66266033 -0.39597992 -0.88640526]\n",
      " [-1.20926872 -1.66266033  1.00159627 -0.88640526]\n",
      " [-0.27630176 -1.62449091 -1.71591298 -0.88640526]\n",
      " [-1.13750203 -1.62449091  1.70038436 -0.88640526]\n",
      " [ 1.80493225 -1.58632148 -1.83237767  1.12815215]\n",
      " [-0.6351352  -1.58632148  0.84631002 -0.88640526]\n",
      " [ 2.02023231 -1.58632148 -1.4053405   1.12815215]\n",
      " [-0.27630176 -1.58632148  1.89449216 -0.88640526]\n",
      " [ 1.37433211 -1.54815205 -1.36651894 -0.88640526]\n",
      " [-1.06573534 -1.54815205  1.04041783 -0.88640526]\n",
      " [-0.13276838 -1.54815205 -1.44416206  1.12815215]\n",
      " [-1.20926872 -1.54815205  1.11806095  1.12815215]\n",
      " [-0.27630176 -1.50998262 -0.59008772 -0.88640526]\n",
      " [-1.3528021  -1.50998262  0.61338066  1.12815215]\n",
      " [ 0.94373197 -1.43364376 -0.82301709  1.12815215]\n",
      " [-0.27630176 -1.43364376  1.8556706  -0.88640526]\n",
      " [-0.27630176 -1.39547433 -0.59008772  1.12815215]\n",
      " [-0.99396865 -1.39547433  0.88513158  1.12815215]\n",
      " [ 0.51313183 -1.3573049  -1.75473454 -0.88640526]\n",
      " [-0.56336851 -1.3573049   0.88513158  1.12815215]\n",
      " [ 1.08726535 -1.24279661 -1.4053405  -0.88640526]\n",
      " [-0.70690189 -1.24279661  1.23452563  1.12815215]\n",
      " [ 0.44136514 -1.24279661 -0.7065524  -0.88640526]\n",
      " [-0.27630176 -1.24279661  0.41927286  1.12815215]\n",
      " [ 0.08253169 -1.20462718 -0.74537397 -0.88640526]\n",
      " [-1.13750203 -1.20462718  1.42863343 -0.88640526]\n",
      " [ 1.51786549 -1.16645776 -1.7935561   1.12815215]\n",
      " [-1.28103541 -1.16645776  0.88513158 -0.88640526]\n",
      " [ 1.01549866 -1.05194947 -1.7935561   1.12815215]\n",
      " [-1.49633548 -1.05194947  1.62274124  1.12815215]\n",
      " [ 0.7284319  -1.05194947 -1.4053405  -0.88640526]\n",
      " [-1.28103541 -1.05194947  1.19570407 -0.88640526]\n",
      " [ 0.22606507 -1.01378004 -1.28887582 -0.88640526]\n",
      " [-0.6351352  -1.01378004  0.88513158 -0.88640526]\n",
      " [-0.20453507 -0.89927175 -0.93948177 -0.88640526]\n",
      " [-1.3528021  -0.89927175  0.96277471 -0.88640526]\n",
      " [ 1.87669894 -0.86110232 -0.59008772 -0.88640526]\n",
      " [-1.06573534 -0.86110232  1.62274124  1.12815215]\n",
      " [ 0.65666521 -0.82293289 -0.55126616  1.12815215]\n",
      " [-0.56336851 -0.82293289  0.41927286 -0.88640526]\n",
      " [ 0.7284319  -0.82293289 -0.86183865 -0.88640526]\n",
      " [-1.06573534 -0.82293289  0.5745591  -0.88640526]\n",
      " [ 0.80019859 -0.78476346  0.18634349 -0.88640526]\n",
      " [-0.85043527 -0.78476346 -0.12422899 -0.88640526]\n",
      " [-0.70690189 -0.78476346 -0.3183368  -0.88640526]\n",
      " [-0.56336851 -0.78476346 -0.3183368  -0.88640526]\n",
      " [ 0.7284319  -0.70842461  0.06987881 -0.88640526]\n",
      " [-0.41983513 -0.70842461  0.38045129  1.12815215]\n",
      " [-0.56336851 -0.67025518  0.14752193 -0.88640526]\n",
      " [ 1.4460988  -0.67025518  0.38045129  1.12815215]\n",
      " [ 0.80019859 -0.67025518 -0.20187212 -0.88640526]\n",
      " [ 0.58489852 -0.67025518 -0.35715836  1.12815215]\n",
      " [ 0.87196528 -0.63208575 -0.00776431 -0.88640526]\n",
      " [ 2.16376569 -0.63208575 -0.16305055  1.12815215]\n",
      " [-0.85043527 -0.55574689  0.03105725 -0.88640526]\n",
      " [ 1.01549866 -0.55574689 -0.16305055  1.12815215]\n",
      " [ 2.23553238 -0.55574689  0.22516505  1.12815215]\n",
      " [-1.42456879 -0.55574689  0.18634349  1.12815215]\n",
      " [ 2.02023231 -0.51757746  0.06987881 -0.88640526]\n",
      " [ 1.08726535 -0.51757746  0.34162973 -0.88640526]\n",
      " [ 1.73316556 -0.47940803  0.03105725  1.12815215]\n",
      " [-1.49633548 -0.47940803  0.34162973  1.12815215]\n",
      " [ 0.29783176 -0.47940803 -0.00776431 -0.88640526]\n",
      " [ 2.091999   -0.47940803 -0.08540743 -0.88640526]\n",
      " [-1.42456879 -0.47940803  0.34162973  1.12815215]\n",
      " [-0.49160182 -0.47940803 -0.12422899 -0.88640526]\n",
      " [ 2.23553238 -0.4412386   0.18634349  1.12815215]\n",
      " [ 0.58489852 -0.4412386  -0.3183368  -0.88640526]\n",
      " [ 1.51786549 -0.40306917 -0.04658587 -0.88640526]\n",
      " [ 1.51786549 -0.40306917  0.22516505 -0.88640526]\n",
      " [ 1.4460988  -0.25039146 -0.12422899  1.12815215]\n",
      " [-0.92220196 -0.25039146  0.14752193  1.12815215]\n",
      " [ 0.44136514 -0.25039146  0.10870037 -0.88640526]\n",
      " [ 0.08253169 -0.25039146 -0.08540743  1.12815215]\n",
      " [-1.13750203 -0.25039146  0.06987881 -0.88640526]\n",
      " [ 0.7284319  -0.25039146 -0.3183368  -0.88640526]\n",
      " [ 1.30256542 -0.25039146  0.03105725  1.12815215]\n",
      " [-0.06100169 -0.25039146  0.18634349  1.12815215]\n",
      " [ 2.02023231 -0.25039146 -0.35715836  1.12815215]\n",
      " [ 0.51313183 -0.25039146 -0.24069368 -0.88640526]\n",
      " [-1.28103541 -0.25039146  0.26398661 -0.88640526]\n",
      " [ 0.65666521 -0.25039146 -0.16305055  1.12815215]\n",
      " [ 1.15903204 -0.13588317  0.30280817 -0.88640526]\n",
      " [-1.20926872 -0.13588317  0.18634349 -0.88640526]\n",
      " [-0.34806844 -0.09771374  0.38045129 -0.88640526]\n",
      " [ 0.80019859 -0.09771374 -0.16305055 -0.88640526]\n",
      " [ 2.091999   -0.05954431  0.18634349 -0.88640526]\n",
      " [-1.49633548 -0.05954431 -0.35715836  1.12815215]\n",
      " [ 0.65666521 -0.02137488 -0.04658587  1.12815215]\n",
      " [ 0.08253169 -0.02137488 -0.39597992 -0.88640526]\n",
      " [-0.49160182 -0.02137488 -0.3183368  -0.88640526]\n",
      " [-1.06573534 -0.02137488  0.06987881  1.12815215]\n",
      " [ 0.58489852 -0.02137488 -0.12422899 -0.88640526]\n",
      " [-0.85043527 -0.02137488 -0.00776431 -0.88640526]\n",
      " [ 0.65666521  0.01679455 -0.3183368   1.12815215]\n",
      " [-1.3528021   0.01679455 -0.04658587  1.12815215]\n",
      " [-1.13750203  0.05496398 -0.35715836 -0.88640526]\n",
      " [ 0.7284319   0.05496398 -0.08540743 -0.88640526]\n",
      " [ 2.02023231  0.05496398  0.34162973  1.12815215]\n",
      " [-0.92220196  0.05496398  0.18634349  1.12815215]\n",
      " [ 0.7284319   0.05496398  0.22516505  1.12815215]\n",
      " [-1.28103541  0.05496398 -0.3183368  -0.88640526]\n",
      " [ 1.94846562  0.09313341 -0.00776431 -0.88640526]\n",
      " [ 1.08726535  0.09313341 -0.16305055  1.12815215]\n",
      " [ 2.091999    0.09313341 -0.27951524  1.12815215]\n",
      " [ 1.94846562  0.09313341 -0.08540743  1.12815215]\n",
      " [ 1.87669894  0.09313341  0.06987881  1.12815215]\n",
      " [-1.42456879  0.09313341  0.14752193 -0.88640526]\n",
      " [-0.06100169  0.13130284 -0.3183368  -0.88640526]\n",
      " [-1.42456879  0.13130284 -0.16305055  1.12815215]\n",
      " [-1.49633548  0.16947227 -0.08540743 -0.88640526]\n",
      " [-1.42456879  0.16947227 -0.00776431 -0.88640526]\n",
      " [ 1.73316556  0.16947227 -0.27951524 -0.88640526]\n",
      " [ 0.7284319   0.16947227  0.34162973 -0.88640526]\n",
      " [ 0.87196528  0.24581112 -0.27951524 -0.88640526]\n",
      " [ 0.80019859  0.24581112  0.26398661 -0.88640526]\n",
      " [-0.85043527  0.24581112  0.22516505  1.12815215]\n",
      " [-0.06100169  0.24581112 -0.39597992 -0.88640526]\n",
      " [ 0.08253169  0.32214998  0.30280817 -0.88640526]\n",
      " [ 0.010765    0.32214998  1.58391968  1.12815215]\n",
      " [-1.13750203  0.36031941 -0.82301709 -0.88640526]\n",
      " [-0.56336851  0.36031941  1.04041783 -0.88640526]\n",
      " [ 0.29783176  0.39848884 -0.59008772  1.12815215]\n",
      " [ 0.08253169  0.39848884  1.73920592  1.12815215]\n",
      " [ 1.4460988   0.39848884 -1.52180518  1.12815215]\n",
      " [-0.06100169  0.39848884  0.96277471  1.12815215]\n",
      " [ 0.58489852  0.39848884 -1.5994483   1.12815215]\n",
      " [ 0.010765    0.39848884  0.96277471  1.12815215]\n",
      " [-0.99396865  0.43665827 -0.62890928 -0.88640526]\n",
      " [-0.56336851  0.43665827  0.80748846 -0.88640526]\n",
      " [-1.3528021   0.4748277  -1.75473454  1.12815215]\n",
      " [-0.70690189  0.4748277   1.46745499 -0.88640526]\n",
      " [ 0.36959845  0.4748277  -1.67709142 -0.88640526]\n",
      " [-0.49160182  0.4748277   0.88513158  1.12815215]\n",
      " [-1.42456879  0.51299713 -1.56062674  1.12815215]\n",
      " [-0.27630176  0.51299713  0.84631002 -0.88640526]\n",
      " [ 1.30256542  0.55116656 -1.75473454 -0.88640526]\n",
      " [-0.49160182  0.55116656  1.6615628   1.12815215]\n",
      " [-0.77866858  0.58933599 -0.39597992 -0.88640526]\n",
      " [-0.49160182  0.58933599  1.42863343 -0.88640526]\n",
      " [-0.99396865  0.62750542 -1.48298362  1.12815215]\n",
      " [-0.77866858  0.62750542  1.81684904  1.12815215]\n",
      " [ 0.65666521  0.62750542 -0.55126616  1.12815215]\n",
      " [-0.49160182  0.62750542  0.92395314 -0.88640526]\n",
      " [-0.34806844  0.66567484 -1.09476801 -0.88640526]\n",
      " [-0.34806844  0.66567484  1.54509812  1.12815215]\n",
      " [ 0.29783176  0.66567484 -1.28887582  1.12815215]\n",
      " [ 0.010765    0.66567484  1.46745499  1.12815215]\n",
      " [ 0.36959845  0.66567484 -1.17241113 -0.88640526]\n",
      " [-0.06100169  0.66567484  1.00159627 -0.88640526]\n",
      " [ 0.58489852  0.66567484 -1.32769738 -0.88640526]\n",
      " [-0.85043527  0.66567484  1.50627656 -0.88640526]\n",
      " [-0.13276838  0.66567484 -1.91002079  1.12815215]\n",
      " [-0.6351352   0.66567484  1.07923939 -0.88640526]\n",
      " [-0.34806844  0.66567484 -1.91002079  1.12815215]\n",
      " [-0.6351352   0.66567484  0.88513158 -0.88640526]\n",
      " [ 1.23079873  0.70384427 -0.59008772 -0.88640526]\n",
      " [-0.70690189  0.70384427  1.27334719 -0.88640526]\n",
      " [-1.42456879  0.78018313 -1.75473454  1.12815215]\n",
      " [-0.56336851  0.78018313  1.6615628  -0.88640526]\n",
      " [ 0.80019859  0.93286085 -0.93948177  1.12815215]\n",
      " [-0.20453507  0.93286085  0.96277471 -0.88640526]\n",
      " [ 0.22606507  0.97103028 -1.17241113  1.12815215]\n",
      " [-0.41983513  0.97103028  1.73920592 -0.88640526]\n",
      " [-0.20453507  1.00919971 -0.90066021 -0.88640526]\n",
      " [-0.49160182  1.00919971  0.49691598  1.12815215]\n",
      " [ 0.08253169  1.00919971 -1.44416206  1.12815215]\n",
      " [-0.77866858  1.00919971  0.96277471  1.12815215]\n",
      " [-0.20453507  1.00919971 -1.56062674  1.12815215]\n",
      " [-0.20453507  1.00919971  1.62274124  1.12815215]\n",
      " [ 0.94373197  1.04736914 -1.44416206 -0.88640526]\n",
      " [-0.6351352   1.04736914  1.38981187 -0.88640526]\n",
      " [ 1.37433211  1.04736914 -1.36651894  1.12815215]\n",
      " [-0.85043527  1.04736914  0.72984534  1.12815215]\n",
      " [ 1.4460988   1.23821628 -1.4053405   1.12815215]\n",
      " [-0.27630176  1.23821628  1.54509812  1.12815215]\n",
      " [-0.13276838  1.390894   -0.7065524  -0.88640526]\n",
      " [-0.49160182  1.390894    1.38981187 -0.88640526]\n",
      " [ 0.51313183  1.42906343 -1.36651894  1.12815215]\n",
      " [-0.70690189  1.42906343  1.46745499 -0.88640526]\n",
      " [ 0.15429838  1.46723286 -0.43480148 -0.88640526]\n",
      " [-0.6351352   1.46723286  1.81684904  1.12815215]\n",
      " [ 1.08726535  1.54357172 -1.01712489 -0.88640526]\n",
      " [-0.77866858  1.54357172  0.69102378  1.12815215]\n",
      " [ 0.15429838  1.61991057 -1.28887582 -0.88640526]\n",
      " [-0.20453507  1.61991057  1.35099031 -0.88640526]\n",
      " [-0.34806844  1.61991057 -1.05594645 -0.88640526]\n",
      " [-0.49160182  1.61991057  0.72984534 -0.88640526]\n",
      " [-0.41983513  2.00160487 -1.63826986  1.12815215]\n",
      " [-0.06100169  2.00160487  1.58391968 -0.88640526]\n",
      " [ 0.58489852  2.26879087 -1.32769738 -0.88640526]\n",
      " [-0.27630176  2.26879087  1.11806095 -0.88640526]\n",
      " [ 0.44136514  2.49780745 -0.86183865 -0.88640526]\n",
      " [-0.49160182  2.49780745  0.92395314  1.12815215]\n",
      " [-0.49160182  2.91767117 -1.25005425  1.12815215]\n",
      " [-0.6351352   2.91767117  1.27334719  1.12815215]]\n"
     ]
    }
   ],
   "source": [
    "scale = StandardScaler()\n",
    "df_scaled = scale.fit_transform(df_new)\n",
    "print(df_scaled)"
   ]
  },
  {
   "cell_type": "markdown",
   "metadata": {},
   "source": [
    "# By using the popular unsupervised learning technique called K-Means clustering.\n",
    "\n",
    "# This algorithm can take in unlabelled customer data and assign each data point to clusters.\n",
    "\n",
    "# The goal of K-Means is to group all the data available into non-overlapping sub-groups that are distinct from each other."
   ]
  },
  {
   "cell_type": "code",
   "execution_count": 14,
   "metadata": {},
   "outputs": [],
   "source": [
    "max_clusters = 40"
   ]
  },
  {
   "cell_type": "code",
   "execution_count": 15,
   "metadata": {},
   "outputs": [],
   "source": [
    "k_means_tests = [KMeans(n_clusters=i, n_init=10) for i in range(1, max_clusters)]\n",
    "inertias = [k_means_tests[i].fit(df_scaled).inertia_ for i in range(len(k_means_tests))]"
   ]
  },
  {
   "cell_type": "markdown",
   "metadata": {},
   "source": [
    "# We visualize the model's performance.\n",
    "# Using the elbow method, we can see that the number of clusters is about 10."
   ]
  },
  {
   "cell_type": "code",
   "execution_count": 16,
   "metadata": {},
   "outputs": [
    {
     "data": {
      "image/png": "[encoded data removed]",
      "text/plain": [
       "<Figure size 720x576 with 1 Axes>"
      ]
     },
     "metadata": {},
     "output_type": "display_data"
    }
   ],
   "source": [
    "plt.figure(figsize=(10,8))\n",
    "plt.plot(range(1, max_clusters), inertias)\n",
    "plt.xlabel('Number of clusters')\n",
    "plt.ylabel('Inertias')\n",
    "plt.title('Choosing the Number of clusters')\n",
    "plt.show()"
   ]
  },
  {
   "cell_type": "markdown",
   "metadata": {},
   "source": [
    "# After the number of clusters, we fit our data to the KMean model and we predict their clusters' category number."
   ]
  },
  {
   "cell_type": "code",
   "execution_count": 17,
   "metadata": {},
   "outputs": [
    {
     "data": {
      "text/plain": [
       "KMeans(n_clusters=10)"
      ]
     },
     "execution_count": 17,
     "metadata": {},
     "output_type": "execute_result"
    }
   ],
   "source": [
    "kmeans = KMeans(n_clusters=10, n_init=10)\n",
    "kmeans.fit(df_scaled)"
   ]
  },
  {
   "cell_type": "code",
   "execution_count": 18,
   "metadata": {},
   "outputs": [
    {
     "data": {
      "text/plain": [
       "array([3, 3, 6, 5, 6, 5, 6, 5, 7, 5, 7, 5, 6, 5, 6, 3, 6, 3, 7, 5, 3, 3,\n",
       "       6, 3, 6, 3, 6, 3, 6, 5, 7, 5, 7, 3, 6, 5, 6, 5, 6, 5, 1, 3, 7, 4,\n",
       "       6, 5, 1, 4, 4, 4, 1, 3, 4, 7, 1, 7, 1, 7, 4, 7, 7, 3, 1, 1, 7, 3,\n",
       "       1, 1, 3, 4, 7, 1, 1, 1, 7, 3, 1, 3, 4, 1, 7, 3, 7, 1, 4, 7, 1, 4,\n",
       "       4, 1, 1, 3, 7, 4, 4, 3, 1, 4, 7, 3, 4, 1, 7, 3, 7, 4, 1, 7, 7, 7,\n",
       "       7, 4, 4, 3, 4, 4, 1, 1, 1, 1, 3, 4, 4, 0, 4, 8, 2, 0, 7, 0, 2, 0,\n",
       "       4, 8, 2, 8, 9, 0, 2, 8, 9, 0, 4, 8, 2, 0, 2, 8, 9, 0, 2, 0, 9, 8,\n",
       "       9, 8, 2, 8, 2, 8, 9, 8, 2, 8, 2, 8, 2, 8, 9, 0, 2, 0, 2, 0, 9, 8,\n",
       "       2, 0, 2, 0, 9, 8, 2, 8, 9, 0, 9, 0, 9, 8, 9, 8, 2, 8, 9, 8, 9, 0,\n",
       "       2, 0])"
      ]
     },
     "execution_count": 18,
     "metadata": {},
     "output_type": "execute_result"
    }
   ],
   "source": [
    "clusters = kmeans.predict(df_scaled)\n",
    "clusters"
   ]
  },
  {
   "cell_type": "markdown",
   "metadata": {},
   "source": [
    "# The cluster_centers help us see the center point of every cluster group"
   ]
  },
  {
   "cell_type": "code",
   "execution_count": 19,
   "metadata": {
    "scrolled": true
   },
   "outputs": [
    {
     "data": {
      "text/plain": [
       "array([[-0.39989994,  1.01344075,  1.26040667,  1.12815215],\n",
       "       [ 1.09300668, -0.27940022, -0.02639866, -0.88640526],\n",
       "       [-0.02700694,  0.96701244, -1.39716754,  1.12815215],\n",
       "       [-0.97602698, -0.73705168,  0.41603773,  1.12815215],\n",
       "       [-0.78153925, -0.12214217, -0.11957041, -0.88640526],\n",
       "       [-0.96084556, -1.33087991,  1.17778643, -0.88640526],\n",
       "       [ 0.16967696, -1.31640908, -1.1668652 , -0.7425083 ],\n",
       "       [ 1.43505777, -0.45298304, -0.40195247,  1.12815215],\n",
       "       [-0.47793198,  0.97284787,  1.22158511, -0.88640526],\n",
       "       [ 0.41265847,  1.21277   , -1.11029664, -0.88640526]])"
      ]
     },
     "execution_count": 19,
     "metadata": {},
     "output_type": "execute_result"
    }
   ],
   "source": [
    "kmeans.cluster_centers_"
   ]
  },
  {
   "cell_type": "markdown",
   "metadata": {},
   "source": [
    "# To better visualize our data, and since we have 4 features, we can use PCA to reduce the dimension from 4 to 2.\n",
    "# PCA is a method that uses simple matrix operations from linear algebra and statistics to calculate a projection of the original data into the same number or fewer dimensions.\n",
    "# By lowering the dimensions to 2 and using the cluster groups, we create a DataFrame of 3 columns that we can better visualize "
   ]
  },
  {
   "cell_type": "code",
   "execution_count": 20,
   "metadata": {},
   "outputs": [
    {
     "data": {
      "text/html": [
       "<div>\n",
       "<style scoped>\n",
       "    .dataframe tbody tr th:only-of-type {\n",
       "        vertical-align: middle;\n",
       "    }\n",
       "\n",
       "    .dataframe tbody tr th {\n",
       "        vertical-align: top;\n",
       "    }\n",
       "\n",
       "    .dataframe thead th {\n",
       "        text-align: right;\n",
       "    }\n",
       "</style>\n",
       "<table border=\"1\" class=\"dataframe\">\n",
       "  <thead>\n",
       "    <tr style=\"text-align: right;\">\n",
       "      <th></th>\n",
       "      <th>PC1</th>\n",
       "      <th>PC2</th>\n",
       "    </tr>\n",
       "  </thead>\n",
       "  <tbody>\n",
       "    <tr>\n",
       "      <th>0</th>\n",
       "      <td>-0.406383</td>\n",
       "      <td>-0.520714</td>\n",
       "    </tr>\n",
       "    <tr>\n",
       "      <th>1</th>\n",
       "      <td>-1.427673</td>\n",
       "      <td>-0.367310</td>\n",
       "    </tr>\n",
       "    <tr>\n",
       "      <th>2</th>\n",
       "      <td>0.050761</td>\n",
       "      <td>-1.894068</td>\n",
       "    </tr>\n",
       "    <tr>\n",
       "      <th>3</th>\n",
       "      <td>-1.694513</td>\n",
       "      <td>-1.631908</td>\n",
       "    </tr>\n",
       "    <tr>\n",
       "      <th>4</th>\n",
       "      <td>-0.313108</td>\n",
       "      <td>-1.810483</td>\n",
       "    </tr>\n",
       "    <tr>\n",
       "      <th>...</th>\n",
       "      <td>...</td>\n",
       "      <td>...</td>\n",
       "    </tr>\n",
       "    <tr>\n",
       "      <th>195</th>\n",
       "      <td>-1.179572</td>\n",
       "      <td>1.324568</td>\n",
       "    </tr>\n",
       "    <tr>\n",
       "      <th>196</th>\n",
       "      <td>0.672751</td>\n",
       "      <td>1.221061</td>\n",
       "    </tr>\n",
       "    <tr>\n",
       "      <th>197</th>\n",
       "      <td>-0.723719</td>\n",
       "      <td>2.765010</td>\n",
       "    </tr>\n",
       "    <tr>\n",
       "      <th>198</th>\n",
       "      <td>0.767096</td>\n",
       "      <td>2.861930</td>\n",
       "    </tr>\n",
       "    <tr>\n",
       "      <th>199</th>\n",
       "      <td>-1.065015</td>\n",
       "      <td>3.137256</td>\n",
       "    </tr>\n",
       "  </tbody>\n",
       "</table>\n",
       "<p>200 rows × 2 columns</p>\n",
       "</div>"
      ],
      "text/plain": [
       "          PC1       PC2\n",
       "0   -0.406383 -0.520714\n",
       "1   -1.427673 -0.367310\n",
       "2    0.050761 -1.894068\n",
       "3   -1.694513 -1.631908\n",
       "4   -0.313108 -1.810483\n",
       "..        ...       ...\n",
       "195 -1.179572  1.324568\n",
       "196  0.672751  1.221061\n",
       "197 -0.723719  2.765010\n",
       "198  0.767096  2.861930\n",
       "199 -1.065015  3.137256\n",
       "\n",
       "[200 rows x 2 columns]"
      ]
     },
     "execution_count": 20,
     "metadata": {},
     "output_type": "execute_result"
    }
   ],
   "source": [
    "pca = PCA(n_components = 2)\n",
    "\n",
    "reduced_data = pd.DataFrame(pca.fit_transform(df_scaled), columns=['PC1','PC2'])\n",
    "reduced_data"
   ]
  },
  {
   "cell_type": "code",
   "execution_count": 21,
   "metadata": {},
   "outputs": [
    {
     "data": {
      "text/plain": [
       "array([[-0.88272588,  1.65431318],\n",
       "       [ 0.56402657, -0.88554419],\n",
       "       [ 1.19961046,  1.30582744],\n",
       "       [-0.68838314,  0.28733559],\n",
       "       [-0.662429  , -0.58044771],\n",
       "       [-1.6696024 , -1.35294268],\n",
       "       [ 0.75229959, -1.61087948],\n",
       "       [ 1.5303687 ,  0.17028966],\n",
       "       [-1.38150389,  0.3644368 ],\n",
       "       [ 0.83149037,  0.21501655]])"
      ]
     },
     "execution_count": 21,
     "metadata": {},
     "output_type": "execute_result"
    }
   ],
   "source": [
    "reduced_centers = pca.transform(kmeans.cluster_centers_)\n",
    "reduced_centers"
   ]
  },
  {
   "cell_type": "code",
   "execution_count": 22,
   "metadata": {},
   "outputs": [
    {
     "data": {
      "text/html": [
       "<div>\n",
       "<style scoped>\n",
       "    .dataframe tbody tr th:only-of-type {\n",
       "        vertical-align: middle;\n",
       "    }\n",
       "\n",
       "    .dataframe tbody tr th {\n",
       "        vertical-align: top;\n",
       "    }\n",
       "\n",
       "    .dataframe thead th {\n",
       "        text-align: right;\n",
       "    }\n",
       "</style>\n",
       "<table border=\"1\" class=\"dataframe\">\n",
       "  <thead>\n",
       "    <tr style=\"text-align: right;\">\n",
       "      <th></th>\n",
       "      <th>PC1</th>\n",
       "      <th>PC2</th>\n",
       "      <th>Cluster</th>\n",
       "    </tr>\n",
       "  </thead>\n",
       "  <tbody>\n",
       "    <tr>\n",
       "      <th>0</th>\n",
       "      <td>-0.406383</td>\n",
       "      <td>-0.520714</td>\n",
       "      <td>3</td>\n",
       "    </tr>\n",
       "    <tr>\n",
       "      <th>1</th>\n",
       "      <td>-1.427673</td>\n",
       "      <td>-0.367310</td>\n",
       "      <td>3</td>\n",
       "    </tr>\n",
       "    <tr>\n",
       "      <th>2</th>\n",
       "      <td>0.050761</td>\n",
       "      <td>-1.894068</td>\n",
       "      <td>6</td>\n",
       "    </tr>\n",
       "    <tr>\n",
       "      <th>3</th>\n",
       "      <td>-1.694513</td>\n",
       "      <td>-1.631908</td>\n",
       "      <td>5</td>\n",
       "    </tr>\n",
       "    <tr>\n",
       "      <th>4</th>\n",
       "      <td>-0.313108</td>\n",
       "      <td>-1.810483</td>\n",
       "      <td>6</td>\n",
       "    </tr>\n",
       "    <tr>\n",
       "      <th>...</th>\n",
       "      <td>...</td>\n",
       "      <td>...</td>\n",
       "      <td>...</td>\n",
       "    </tr>\n",
       "    <tr>\n",
       "      <th>195</th>\n",
       "      <td>-1.179572</td>\n",
       "      <td>1.324568</td>\n",
       "      <td>8</td>\n",
       "    </tr>\n",
       "    <tr>\n",
       "      <th>196</th>\n",
       "      <td>0.672751</td>\n",
       "      <td>1.221061</td>\n",
       "      <td>9</td>\n",
       "    </tr>\n",
       "    <tr>\n",
       "      <th>197</th>\n",
       "      <td>-0.723719</td>\n",
       "      <td>2.765010</td>\n",
       "      <td>0</td>\n",
       "    </tr>\n",
       "    <tr>\n",
       "      <th>198</th>\n",
       "      <td>0.767096</td>\n",
       "      <td>2.861930</td>\n",
       "      <td>2</td>\n",
       "    </tr>\n",
       "    <tr>\n",
       "      <th>199</th>\n",
       "      <td>-1.065015</td>\n",
       "      <td>3.137256</td>\n",
       "      <td>0</td>\n",
       "    </tr>\n",
       "  </tbody>\n",
       "</table>\n",
       "<p>200 rows × 3 columns</p>\n",
       "</div>"
      ],
      "text/plain": [
       "          PC1       PC2  Cluster\n",
       "0   -0.406383 -0.520714        3\n",
       "1   -1.427673 -0.367310        3\n",
       "2    0.050761 -1.894068        6\n",
       "3   -1.694513 -1.631908        5\n",
       "4   -0.313108 -1.810483        6\n",
       "..        ...       ...      ...\n",
       "195 -1.179572  1.324568        8\n",
       "196  0.672751  1.221061        9\n",
       "197 -0.723719  2.765010        0\n",
       "198  0.767096  2.861930        2\n",
       "199 -1.065015  3.137256        0\n",
       "\n",
       "[200 rows x 3 columns]"
      ]
     },
     "execution_count": 22,
     "metadata": {},
     "output_type": "execute_result"
    }
   ],
   "source": [
    "reduced_data['Cluster'] = clusters\n",
    "reduced_data"
   ]
  },
  {
   "cell_type": "markdown",
   "metadata": {},
   "source": [
    "# Data Visualization"
   ]
  },
  {
   "cell_type": "code",
   "execution_count": 23,
   "metadata": {},
   "outputs": [
    {
     "data": {
      "image/png": "[encoded data removed]",
      "text/plain": [
       "<Figure size 1080x720 with 1 Axes>"
      ]
     },
     "metadata": {},
     "output_type": "display_data"
    }
   ],
   "source": [
    "plt.figure(figsize=(15,10))\n",
    "plt.scatter(reduced_data[reduced_data['Cluster'] == 0].loc[:, 'PC1'], reduced_data[reduced_data['Cluster'] == 0].loc[:, 'PC2'], color = 'red')\n",
    "plt.scatter(reduced_data[reduced_data['Cluster'] == 1].loc[:, 'PC1'], reduced_data[reduced_data['Cluster'] == 1].loc[:, 'PC2'], color = 'blue')\n",
    "plt.scatter(reduced_data[reduced_data['Cluster'] == 2].loc[:, 'PC1'], reduced_data[reduced_data['Cluster'] == 2].loc[:, 'PC2'], color = 'green')\n",
    "plt.scatter(reduced_data[reduced_data['Cluster'] == 3].loc[:, 'PC1'], reduced_data[reduced_data['Cluster'] == 3].loc[:, 'PC2'], color = 'purple')\n",
    "plt.scatter(reduced_data[reduced_data['Cluster'] == 4].loc[:, 'PC1'], reduced_data[reduced_data['Cluster'] == 4].loc[:, 'PC2'], color = 'violet')\n",
    "plt.scatter(reduced_data[reduced_data['Cluster'] == 5].loc[:, 'PC1'], reduced_data[reduced_data['Cluster'] == 5].loc[:, 'PC2'], color = 'yellow')\n",
    "plt.scatter(reduced_data[reduced_data['Cluster'] == 6].loc[:, 'PC1'], reduced_data[reduced_data['Cluster'] == 6].loc[:, 'PC2'], color = 'white')\n",
    "plt.scatter(reduced_data[reduced_data['Cluster'] == 7].loc[:, 'PC1'], reduced_data[reduced_data['Cluster'] == 7].loc[:, 'PC2'], color = 'brown')\n",
    "plt.scatter(reduced_data[reduced_data['Cluster'] == 8].loc[:, 'PC1'], reduced_data[reduced_data['Cluster'] == 8].loc[:, 'PC2'], color = 'pink')\n",
    "plt.scatter(reduced_data[reduced_data['Cluster'] == 9].loc[:, 'PC1'], reduced_data[reduced_data['Cluster'] == 9].loc[:, 'PC2'], color = 'orange')\n",
    "\n",
    "\n",
    "plt.scatter(reduced_centers[:,0], reduced_centers[:,1], color = 'black', marker= 'x', s = 200)\n",
    "\n",
    "plt.xlabel('PC1')\n",
    "plt.ylabel('PC2')\n",
    "\n",
    "plt.show()\n"
   ]
  },
  {
   "cell_type": "code",
   "execution_count": null,
   "metadata": {},
   "outputs": [],
   "source": []
  }
 ],
 "metadata": {
  "kernelspec": {
   "display_name": "Python 3",
   "language": "python",
   "name": "python3"
  },
  "language_info": {
   "codemirror_mode": {
    "name": "ipython",
    "version": 3
   },
   "file_extension": ".py",
   "mimetype": "text/x-python",
   "name": "python",
   "nbconvert_exporter": "python",
   "pygments_lexer": "ipython3",
   "version": "3.8.5"
  }
 },
 "nbformat": 4,
 "nbformat_minor": 4
}
